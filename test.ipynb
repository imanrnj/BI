{
 "cells": [
  {
   "cell_type": "code",
   "execution_count": null,
   "metadata": {
    "tags": []
   },
   "outputs": [],
   "source": [
    "from datetime import datetime, timedelta\n",
    "from persiantools.jdatetime import JalaliDate, JalaliDateTime\n",
    "import pandas as pd\n",
    "import plotly.express as px\n",
    "\n",
    "import functions\n",
    "import analysis\n",
    "\n",
    "from importlib import reload\n",
    "reload(analysis)\n",
    "reload(functions)\n",
    "\n",
    "import random"
   ]
  },
  {
   "cell_type": "code",
   "execution_count": null,
   "metadata": {
    "tags": []
   },
   "outputs": [],
   "source": [
    "functions.LOG(\"Loading Db.\")\n",
    "\n",
    "foods,foodTypes,factorItems,factors,restaurant=functions.loadDb()\n",
    "\n",
    "functions.LOG(\"Creating dataframes.\")\n",
    "factor_df = pd.DataFrame(data=factors).T\n",
    "foods_df = pd.DataFrame(data=foods)\n",
    "factorItems_df = pd.DataFrame(data=factorItems)\n",
    "foodTypes_df=pd.DataFrame(data=foodTypes)\n",
    "print(\"# factors:\\t\",len(factor_df),'\\n',factor_df.columns.values,'\\n')\n",
    "print(\"# factorItems:\\t\",len(factorItems_df),'\\n',factorItems_df.columns.values,'\\n')\n",
    "print(\"# foods:\\t\",len(foods_df),'\\n',foods_df.columns.values,'\\n')\n",
    "print(\"# foodTypes:\\t\",len(foodTypes_df),'\\n',foodTypes_df.columns.values,'\\n')\n",
    "\n",
    "functions.LOG(\"Inserting  phone numbers.\")\n",
    "factor_df=functions.insertUsers(factor_df,N=1000)\n"
   ]
  },
  {
   "cell_type": "code",
   "execution_count": null,
   "metadata": {
    "tags": []
   },
   "outputs": [],
   "source": [
    "reload(analysis)\n",
    "functions.LOG(\"basicDfForAnalysis.\")\n",
    "basicDfForAnalysis_df=analysis.basicDfForAnalysis(factor_df,factorItems_df,foods_df,foodTypes_df,refreshLoad=False)\n",
    "print(\"# basicDfForAnalysis_df:\\t\",len(basicDfForAnalysis_df),'\\n',basicDfForAnalysis_df.columns.values,'\\n')"
   ]
  },
  {
   "cell_type": "code",
   "execution_count": null,
   "metadata": {
    "tags": []
   },
   "outputs": [],
   "source": [
    "basicDfForAnalysis_df.head(25)"
   ]
  },
  {
   "cell_type": "code",
   "execution_count": null,
   "metadata": {
    "tags": []
   },
   "outputs": [],
   "source": [
    "reload(analysis)\n",
    "\n",
    "inputTypes=['Food','Food_Types']\n",
    "AggregateColumn=['Sale']\n",
    "GroupBys=['year','month','day','hour','dayname']\n",
    "selected_GroupBys=[GroupBys[0],GroupBys[1],GroupBys[2]]\n",
    "inputTypeAggregateColumnbyGroupBy_df=analysis.inputTypeAggregateColumnbyGroupBy(basicDfForAnalysis_df,inputTypes[1], \n",
    "                                                                   AggregateColumn[0],selected_GroupBys )\n",
    "inputTypeAggregateColumnbyGroupBy_df.head(50)"
   ]
  },
  {
   "cell_type": "code",
   "execution_count": null,
   "metadata": {
    "tags": []
   },
   "outputs": [],
   "source": [
    "reload(analysis)\n",
    "functions.LOG(\"filtering.\")\n",
    "inputTypes=['Food','Food_Types']\n",
    "filtered_inputTypeAggregateColumnbyGroupBy_df_list=analysis.filter_df(\"چای و دمنوش\",inputTypes[1],[inputTypeAggregateColumnbyGroupBy_df])\n",
    "filtered_inputTypeAggregateColumnbyGroupBy_df_list[0].head(20)"
   ]
  },
  {
   "cell_type": "code",
   "execution_count": null,
   "metadata": {
    "tags": []
   },
   "outputs": [],
   "source": [
    "reload(analysis)\n",
    "functions.LOG(\"df_statistics.\")\n",
    "metrics=['SaleSum']\n",
    "filtered_inputTypeAggregateColumnbyGroupBy_df_statistics=analysis.df_statistics(filtered_inputTypeAggregateColumnbyGroupBy_df_list[0],[metrics[0]])\n",
    "filtered_inputTypeAggregateColumnbyGroupBy_df_statistics.head(50)"
   ]
  },
  {
   "cell_type": "code",
   "execution_count": null,
   "metadata": {
    "tags": []
   },
   "outputs": [],
   "source": [
    "reload(analysis)\n",
    "\n",
    "inputTypes=['Food','Food_Types']\n",
    "AggregateColumn=['Sale']\n",
    "GroupBys=['year','month','day','hour','dayname']\n",
    "metrics=['SaleSum']\n",
    "plotYs=['SaleSum','Count','SaleMean','SaleSum%','Salecount%','Sum/Mean','first_quarters',\n",
    "        'second_quarters','third_quarters','maxs','stds','means-2.5std','means+2.5std']\n",
    "\n",
    "selected_inputType=inputTypes[1]\n",
    "selectrd_AggregateColumn=AggregateColumn[0]\n",
    "selected_GroupBys=[GroupBys[2]]\n",
    "selected_plotY=plotYs[0]\n",
    "\n",
    "\n",
    "inputTypeAggregateColumnbyGroupBy_df=analysis.inputTypeAggregateColumnbyGroupBy(basicDfForAnalysis_df,selected_inputType, \n",
    "                                                                   selectrd_AggregateColumn,selected_GroupBys )\n",
    "filtered_inputTypeAggregateColumnbyGroupBy_df_list=analysis.filter_df(\"پیتزا\",selected_inputType,[inputTypeAggregateColumnbyGroupBy_df])\n",
    "filtered_inputTypeAggregateColumnbyGroupBy_df_statistics=analysis.df_statistics(filtered_inputTypeAggregateColumnbyGroupBy_df_list[0],selected_metric)\n",
    "\n",
    "analysis.lineChart(filtered_inputTypeAggregateColumnbyGroupBy_df_statistics,selected_inputType,X=selected_GroupBys,Y =selected_plotY)"
   ]
  },
  {
   "cell_type": "code",
   "execution_count": null,
   "metadata": {},
   "outputs": [],
   "source": []
  }
 ],
 "metadata": {
  "kernelspec": {
   "display_name": "Python 3",
   "language": "python",
   "name": "python3"
  },
  "language_info": {
   "codemirror_mode": {
    "name": "ipython",
    "version": 3
   },
   "file_extension": ".py",
   "mimetype": "text/x-python",
   "name": "python",
   "nbconvert_exporter": "python",
   "pygments_lexer": "ipython3",
   "version": "3.7.3"
  }
 },
 "nbformat": 4,
 "nbformat_minor": 4
}
